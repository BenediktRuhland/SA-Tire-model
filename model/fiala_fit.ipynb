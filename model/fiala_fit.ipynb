{
 "cells": [
  {
   "cell_type": "code",
   "execution_count": 4,
   "metadata": {},
   "outputs": [
    {
     "ename": "TypeError",
     "evalue": "fiala_long() missing 1 required positional argument: 'mu2'",
     "output_type": "error",
     "traceback": [
      "\u001b[1;31m---------------------------------------------------------------------------\u001b[0m",
      "\u001b[1;31mTypeError\u001b[0m                                 Traceback (most recent call last)",
      "\u001b[1;32m~\\AppData\\Local\\Temp\\ipykernel_31624\\1286638161.py\u001b[0m in \u001b[0;36m<module>\u001b[1;34m\u001b[0m\n\u001b[0;32m     19\u001b[0m \u001b[0mparams_Fx_init\u001b[0m \u001b[1;33m=\u001b[0m \u001b[1;33m[\u001b[0m\u001b[1;36m30000\u001b[0m\u001b[1;33m,\u001b[0m \u001b[1;36m0.4\u001b[0m\u001b[1;33m,\u001b[0m \u001b[1;36m0.6\u001b[0m\u001b[1;33m]\u001b[0m\u001b[1;33m\u001b[0m\u001b[1;33m\u001b[0m\u001b[0m\n\u001b[0;32m     20\u001b[0m \u001b[0mparams_Fy_init\u001b[0m \u001b[1;33m=\u001b[0m \u001b[1;33m[\u001b[0m\u001b[1;36m11600\u001b[0m\u001b[1;33m,\u001b[0m \u001b[1;36m0.2\u001b[0m\u001b[1;33m,\u001b[0m \u001b[1;36m0.8\u001b[0m\u001b[1;33m]\u001b[0m\u001b[1;33m\u001b[0m\u001b[1;33m\u001b[0m\u001b[0m\n\u001b[1;32m---> 21\u001b[1;33m \u001b[0mFx\u001b[0m \u001b[1;33m=\u001b[0m \u001b[0mf\u001b[0m\u001b[1;33m.\u001b[0m\u001b[0mfiala_long\u001b[0m\u001b[1;33m(\u001b[0m\u001b[0mSy\u001b[0m\u001b[1;33m,\u001b[0m\u001b[0mFz\u001b[0m\u001b[1;33m,\u001b[0m \u001b[1;33m*\u001b[0m\u001b[0mparams_Fx_init\u001b[0m\u001b[1;33m)\u001b[0m\u001b[1;33m\u001b[0m\u001b[1;33m\u001b[0m\u001b[0m\n\u001b[0m\u001b[0;32m     22\u001b[0m \u001b[0mFy\u001b[0m \u001b[1;33m=\u001b[0m \u001b[0mf\u001b[0m\u001b[1;33m.\u001b[0m\u001b[0mfiala_lat\u001b[0m\u001b[1;33m(\u001b[0m\u001b[0mSy\u001b[0m\u001b[1;33m,\u001b[0m\u001b[0mFz\u001b[0m\u001b[1;33m,\u001b[0m \u001b[1;33m*\u001b[0m\u001b[0mparams_Fy_init\u001b[0m\u001b[1;33m)\u001b[0m\u001b[1;33m\u001b[0m\u001b[1;33m\u001b[0m\u001b[0m\n\u001b[0;32m     23\u001b[0m \u001b[1;33m\u001b[0m\u001b[0m\n",
      "\u001b[1;31mTypeError\u001b[0m: fiala_long() missing 1 required positional argument: 'mu2'"
     ]
    }
   ],
   "source": [
    "####\n",
    "#Fiala fit\n",
    "####\n",
    "\n",
    "import numpy as np\n",
    "import matplotlib.pyplot as plt\n",
    "\n",
    "import fiala as f\n",
    "import Pacejka52 as pa52\n",
    "\n",
    "Fz = 4000\n",
    "Fz0 = 3114\n",
    "IA = 0\n",
    "\n",
    "i=1000\n",
    "Sx = np.linspace(-1,1,i)\n",
    "Sy = np.linspace(-0.3,0.3,i)\n",
    "\n",
    "params_Fx_init = [30000, 0.4, 0.6]\n",
    "params_Fy_init = [11600, 0.2, 0.8]\n",
    "Fx = f.fiala_long(Sy,Fz, *params_Fx_init)\n",
    "Fy = f.fiala_lat(Sy,Fz, *params_Fy_init)\n",
    "\n",
    "plt.figure(1)\n",
    "plt.plot(Sx,Fx)\n",
    "\n",
    "plt.figure(2)\n",
    "plt.plot(Sy,Fy)"
   ]
  },
  {
   "cell_type": "code",
   "execution_count": 2,
   "metadata": {},
   "outputs": [
    {
     "ename": "NameError",
     "evalue": "name 'pa' is not defined",
     "output_type": "error",
     "traceback": [
      "\u001b[1;31m---------------------------------------------------------------------------\u001b[0m",
      "\u001b[1;31mNameError\u001b[0m                                 Traceback (most recent call last)",
      "\u001b[1;32m~\\AppData\\Local\\Temp\\ipykernel_31624\\1091592612.py\u001b[0m in \u001b[0;36m<module>\u001b[1;34m\u001b[0m\n\u001b[0;32m     13\u001b[0m \u001b[1;33m\u001b[0m\u001b[0m\n\u001b[0;32m     14\u001b[0m \u001b[1;31m##Fx_pa = pa.Pacejka52_long(Fz,Sx,IA,Fz0)[0]\u001b[0m\u001b[1;33m\u001b[0m\u001b[1;33m\u001b[0m\u001b[0m\n\u001b[1;32m---> 15\u001b[1;33m \u001b[0mFy_pa\u001b[0m \u001b[1;33m=\u001b[0m \u001b[0mpa\u001b[0m\u001b[1;33m.\u001b[0m\u001b[0mPacejka52_lat\u001b[0m\u001b[1;33m(\u001b[0m\u001b[0mFz\u001b[0m\u001b[1;33m,\u001b[0m\u001b[0mSy\u001b[0m\u001b[1;33m,\u001b[0m\u001b[0mIA\u001b[0m\u001b[1;33m,\u001b[0m\u001b[0mFz0\u001b[0m\u001b[1;33m)\u001b[0m\u001b[1;33m[\u001b[0m\u001b[1;36m0\u001b[0m\u001b[1;33m]\u001b[0m\u001b[1;33m\u001b[0m\u001b[1;33m\u001b[0m\u001b[0m\n\u001b[0m\u001b[0;32m     16\u001b[0m \u001b[1;33m\u001b[0m\u001b[0m\n\u001b[0;32m     17\u001b[0m \u001b[1;33m\u001b[0m\u001b[0m\n",
      "\u001b[1;31mNameError\u001b[0m: name 'pa' is not defined"
     ]
    }
   ],
   "source": [
    "#Fitting\n",
    "import scipy.optimize as opt\n",
    "from scipy.optimize import curve_fit\n",
    "#Pacejka 52\n",
    "IA = 0\n",
    "Fz0 = 3114\n",
    "\n",
    "Sx = np.linspace(0,0.15,1000)\n",
    "Sy = np.linspace(0.01,0.115,1000)\n",
    "\n",
    "params_Fx_init = [30000, 0.4, 0.6]\n",
    "params_Fy_init = [11600, 0.2, 0.8]\n",
    "\n",
    "##Fx_pa = pa.Pacejka52_long(Fz,Sx,IA,Fz0)[0]\n",
    "Fy_pa = pa.Pacejka52_lat(Fz,Sy,IA,Fz0)[0]\n",
    "\n",
    "\n",
    "#def Fx_br_func(Sx,mu,kt,lam):\n",
    "#    return br.brush_long(Sx,Fz, mu, kt, lam)\n",
    "\n",
    "def Fy_fi_func(Sy, C_lat,mu1,mu2):\n",
    "    return f.fiala_lat(Sy,Fz,C_lat,mu1,mu2)\n",
    "\n",
    "#Fx_br_params, _ = curve_fit(Fx_br_func, Sx, Fx_pa, params_Fx_init)\n",
    "Fy_br_params, _ = curve_fit(Fy_fi_func, Sy, Fy_pa, params_Fy_init)\n",
    "\n",
    "#Fx_br_fit = Fx_br_func(Sx,Fx_br_params[0],Fx_br_params[1],Fx_br_params[2])\n",
    "Fy_br_fit = Fy_br_func(Sy,Fy_br_params[0],Fy_br_params[1], Fy_br_params[2])\n",
    "\n",
    "#plt.figure(1)\n",
    "#plt.plot(Sx,Fx_br_fit)\n",
    "#plt.plot(Sx,Fx_pa)\n",
    "\n",
    "plt.figure(2)\n",
    "plt.plot(Sy,Fy_br_fit)\n",
    "plt.plot(Sy,Fy_pa)\n"
   ]
  }
 ],
 "metadata": {
  "kernelspec": {
   "display_name": "base",
   "language": "python",
   "name": "python3"
  },
  "language_info": {
   "codemirror_mode": {
    "name": "ipython",
    "version": 3
   },
   "file_extension": ".py",
   "mimetype": "text/x-python",
   "name": "python",
   "nbconvert_exporter": "python",
   "pygments_lexer": "ipython3",
   "version": "3.9.13"
  },
  "orig_nbformat": 4,
  "vscode": {
   "interpreter": {
    "hash": "26caecf2bd45cff89c71ced9647c2679392cf9696ba47165259c7b4dcf432785"
   }
  }
 },
 "nbformat": 4,
 "nbformat_minor": 2
}
