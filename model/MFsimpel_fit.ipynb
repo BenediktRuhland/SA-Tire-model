{
 "cells": [
  {
   "cell_type": "code",
   "execution_count": 16,
   "metadata": {},
   "outputs": [
    {
     "ename": "ModuleNotFoundError",
     "evalue": "No module named 'TMeasy_fit'",
     "output_type": "error",
     "traceback": [
      "\u001b[1;31m---------------------------------------------------------------------------\u001b[0m",
      "\u001b[1;31mModuleNotFoundError\u001b[0m                       Traceback (most recent call last)",
      "\u001b[1;32m~\\AppData\\Local\\Temp\\ipykernel_8500\\1527692222.py\u001b[0m in \u001b[0;36m<module>\u001b[1;34m\u001b[0m\n\u001b[0;32m      6\u001b[0m \u001b[1;32mfrom\u001b[0m \u001b[0mscipy\u001b[0m\u001b[1;33m.\u001b[0m\u001b[0moptimize\u001b[0m \u001b[1;32mimport\u001b[0m \u001b[0mcurve_fit\u001b[0m\u001b[1;33m\u001b[0m\u001b[1;33m\u001b[0m\u001b[0m\n\u001b[0;32m      7\u001b[0m \u001b[1;33m\u001b[0m\u001b[0m\n\u001b[1;32m----> 8\u001b[1;33m \u001b[1;32mimport\u001b[0m \u001b[0mTMeasy_fit\u001b[0m \u001b[1;32mas\u001b[0m \u001b[0mtm\u001b[0m\u001b[1;33m\u001b[0m\u001b[1;33m\u001b[0m\u001b[0m\n\u001b[0m\u001b[0;32m      9\u001b[0m \u001b[1;32mimport\u001b[0m \u001b[0mTMeasy_Rill_fitting\u001b[0m \u001b[1;32mas\u001b[0m \u001b[0mtr\u001b[0m\u001b[1;33m\u001b[0m\u001b[1;33m\u001b[0m\u001b[0m\n\u001b[0;32m     10\u001b[0m \u001b[1;32mimport\u001b[0m \u001b[0mTMeasy_Rill\u001b[0m \u001b[1;32mas\u001b[0m \u001b[0mtm_rill\u001b[0m\u001b[1;33m\u001b[0m\u001b[1;33m\u001b[0m\u001b[0m\n",
      "\u001b[1;31mModuleNotFoundError\u001b[0m: No module named 'TMeasy_fit'"
     ]
    }
   ],
   "source": [
    "import numpy as np\n",
    "import matplotlib.pyplot as plt\n",
    "import scipy.optimize as opt\n",
    "\n",
    "import Pacejka52 as pa52\n",
    "from scipy.optimize import curve_fit\n",
    "\n",
    "import TMeasy_fit as tm\n",
    "import TMeasy_Rill_fitting as tr\n",
    "import TMeasy_Rill as tm_rill\n",
    "\n",
    "i=501\n"
   ]
  },
  {
   "cell_type": "code",
   "execution_count": null,
   "metadata": {},
   "outputs": [],
   "source": []
  },
  {
   "cell_type": "code",
   "execution_count": 14,
   "metadata": {},
   "outputs": [],
   "source": [
    "i=501\n",
    "Fz = 5000\n",
    "Fz0 = 8000\n",
    "IA = 0\n",
    "\n",
    "Sx = np.linspace(-1,1,i)\n",
    "Sy = np.linspace(-0.3,0.3,i)\n",
    "\n",
    "Fy_pa52 = pa52.Pacejka52_lat(Fz,Sy,IA,Fz0)[0]\n",
    "Fx_pa52 = pa52.Pacejka52_long(Fz,Sx,IA,Fz0)[0]\n",
    "\n",
    "#intial guess\n",
    "Fy_params_init = [-8,1.6,11000,-3]\n",
    "Fx_params_init = [17,2,9000,0.62]\n",
    "\n",
    "def func_Fy(Sx,B,C,D,E):\n",
    "    return pa52.Pacejka5_lat_pa(Sy,Fz,B,C,D,E)\n",
    "\n",
    "def func_Fx(Sx,B,C,D,E):\n",
    "    return pa52.Pacejka5_long_pa(Sx,Fz,B,C,D,E)\n",
    "\n",
    "# perform the optimization\n",
    "Fy_params, _ = curve_fit(func_Fy, Sy, Fy_pa52, Fy_params_init )\n",
    "Fx_params, _ = curve_fit(func_Fx, Sx, Fx_pa52, Fx_params_init, maxfev=100000)\n",
    " \n",
    "\n",
    "#plot\n",
    "Fy_fit = func_Fy(Sy,Fy_params[0],Fy_params[1],Fy_params[2],Fy_params[3])\n",
    "Fx_fit = func_Fx(Sx,Fx_params[0],Fx_params[1],Fx_params[2],Fx_params[3])\n",
    "\n",
    "\n",
    "\n",
    "\n",
    "\n",
    "\n",
    "fig,ax = plt.subplots(1,2, figsize = [13,5])\n",
    "Sy_plot = np.linspace(-15,15,i)\n",
    "ax[0].plot(Sy_plot,Fy_fit)\n",
    "ax[0].plot(Sy_plot,Fy_pa52,'r--')\n",
    "ax[0].set_xlabel('Schräglaufwinkel [°]')\n",
    "ax[0].set_xlim(-15,15)\n",
    "ax[0].set_ylabel('Fz [N]')\n",
    "ax[0].set_title('lateral Pacejka5 auf Pacejka52 gefittet')\n",
    "ax[0].legend(['Pacejka5 (gefittet)','Pacejka52 (orginal)'])\n",
    "\n",
    "\n",
    "\n",
    "ax[1].plot(Sx,Fx_fit)\n",
    "ax[1].plot(Sx,Fx_pa52,'r--')\n",
    "ax[1].set_xlabel('Schlupf [%]')\n",
    "ax[1].set_ylabel('Fx [N]')\n",
    "ax[1].set_xlim(-1,1)\n",
    "ax[1].set_title('longitudenal Pacejka5 auf Pacejka52 gefittet')\n",
    "ax[1].legend(['Pacejka5 (gefittet)','Pacejka52 (orginal)'])\n",
    "\n",
    "plt.switch_backend('pgf')\n",
    "fig.savefig('pa5_fit.eps', format='eps')\n"
   ]
  },
  {
   "cell_type": "code",
   "execution_count": 22,
   "metadata": {},
   "outputs": [
    {
     "name": "stdout",
     "output_type": "stream",
     "text": [
      "[-9.06434405  1.60162373 -1.72069169 -0.80265574]\n",
      "-9.111787506527305 1.603 8604.3125 -0.57457550825\n",
      "[17.04378049  1.99996234  1.82504605  0.62177794]\n",
      "18.566518429399228 2.0 13734.400000000001 510000.0\n"
     ]
    }
   ],
   "source": [
    "################################################################################\n",
    "#vergleich parameter   \n",
    "################################################################################\n",
    "\n",
    "print(Fy_params)\n",
    "print(pa52.Pacejka52_lat(Fz,Sy,IA,Fz0)[2],pa52.Pacejka52_lat(Fz,Sy,IA,Fz0)[3],pa52.Pacejka52_lat(Fz,Sy,IA,Fz0)[1],pa52.Pacejka52_lat(Fz,Sy,IA,Fz0)[4])\n",
    "\n",
    "print(Fx_params)\n",
    "print(pa52.Pacejka52_long(8000,Sx,IA,Fz0)[2],pa52.Pacejka52_long(8000,Sx,IA,Fz0)[3],pa52.Pacejka52_long(8000,Sx,IA,Fz0)[1],pa52.Pacejka52_long(8000,Sx,IA,Fz0)[4])"
   ]
  },
  {
   "cell_type": "code",
   "execution_count": 4,
   "metadata": {},
   "outputs": [
    {
     "ename": "NameError",
     "evalue": "name 'tr' is not defined",
     "output_type": "error",
     "traceback": [
      "\u001b[1;31m---------------------------------------------------------------------------\u001b[0m",
      "\u001b[1;31mNameError\u001b[0m                                 Traceback (most recent call last)",
      "\u001b[1;32m~\\AppData\\Local\\Temp\\ipykernel_8500\\3353490896.py\u001b[0m in \u001b[0;36m<module>\u001b[1;34m\u001b[0m\n\u001b[0;32m     32\u001b[0m     \u001b[1;32mreturn\u001b[0m \u001b[0mtr\u001b[0m\u001b[1;33m.\u001b[0m\u001b[0mTMeasy_single\u001b[0m\u001b[1;33m(\u001b[0m\u001b[0mdfx0\u001b[0m\u001b[1;33m,\u001b[0m\u001b[0mdfy0\u001b[0m\u001b[1;33m,\u001b[0m\u001b[0mfxm\u001b[0m\u001b[1;33m,\u001b[0m\u001b[0mfym\u001b[0m\u001b[1;33m,\u001b[0m\u001b[0msxm\u001b[0m\u001b[1;33m,\u001b[0m\u001b[0msym\u001b[0m\u001b[1;33m,\u001b[0m\u001b[0mfxs\u001b[0m\u001b[1;33m,\u001b[0m\u001b[0mfys\u001b[0m\u001b[1;33m,\u001b[0m\u001b[0msxs\u001b[0m\u001b[1;33m,\u001b[0m\u001b[0msys\u001b[0m\u001b[1;33m,\u001b[0m\u001b[0mi\u001b[0m\u001b[1;33m,\u001b[0m\u001b[1;36m2\u001b[0m\u001b[1;33m)\u001b[0m\u001b[1;33m\u001b[0m\u001b[1;33m\u001b[0m\u001b[0m\n\u001b[0;32m     33\u001b[0m \u001b[1;33m\u001b[0m\u001b[0m\n\u001b[1;32m---> 34\u001b[1;33m \u001b[0mFx_tm_params\u001b[0m\u001b[1;33m,\u001b[0m \u001b[0m_\u001b[0m \u001b[1;33m=\u001b[0m \u001b[0mcurve_fit\u001b[0m\u001b[1;33m(\u001b[0m\u001b[0mFx_tm_func\u001b[0m\u001b[1;33m,\u001b[0m \u001b[0mSX\u001b[0m\u001b[1;33m,\u001b[0m \u001b[0mFx_pa52\u001b[0m\u001b[1;33m,\u001b[0m \u001b[0mFx_tm_params_init\u001b[0m\u001b[1;33m,\u001b[0m\u001b[0mmaxfev\u001b[0m \u001b[1;33m=\u001b[0m \u001b[1;36m10000\u001b[0m\u001b[1;33m)\u001b[0m\u001b[1;33m\u001b[0m\u001b[1;33m\u001b[0m\u001b[0m\n\u001b[0m\u001b[0;32m     35\u001b[0m \u001b[0mFy_tm_params\u001b[0m\u001b[1;33m,\u001b[0m \u001b[0m_\u001b[0m \u001b[1;33m=\u001b[0m \u001b[0mcurve_fit\u001b[0m\u001b[1;33m(\u001b[0m\u001b[0mFy_tm_func\u001b[0m\u001b[1;33m,\u001b[0m \u001b[0mSY\u001b[0m\u001b[1;33m,\u001b[0m \u001b[0mFy_pa52\u001b[0m\u001b[1;33m,\u001b[0m \u001b[0mFy_tm_params_init\u001b[0m\u001b[1;33m,\u001b[0m\u001b[0mmaxfev\u001b[0m \u001b[1;33m=\u001b[0m \u001b[1;36m10000\u001b[0m\u001b[1;33m)\u001b[0m\u001b[1;33m\u001b[0m\u001b[1;33m\u001b[0m\u001b[0m\n\u001b[0;32m     36\u001b[0m \u001b[1;33m\u001b[0m\u001b[0m\n",
      "\u001b[1;32mc:\\Users\\bener\\anaconda3\\lib\\site-packages\\scipy\\optimize\\_minpack_py.py\u001b[0m in \u001b[0;36mcurve_fit\u001b[1;34m(f, xdata, ydata, p0, sigma, absolute_sigma, check_finite, bounds, method, jac, full_output, **kwargs)\u001b[0m\n\u001b[0;32m    832\u001b[0m             raise TypeError(f\"The number of func parameters={n} must not\"\n\u001b[0;32m    833\u001b[0m                             f\" exceed the number of data points={ydata.size}\")\n\u001b[1;32m--> 834\u001b[1;33m         \u001b[0mres\u001b[0m \u001b[1;33m=\u001b[0m \u001b[0mleastsq\u001b[0m\u001b[1;33m(\u001b[0m\u001b[0mfunc\u001b[0m\u001b[1;33m,\u001b[0m \u001b[0mp0\u001b[0m\u001b[1;33m,\u001b[0m \u001b[0mDfun\u001b[0m\u001b[1;33m=\u001b[0m\u001b[0mjac\u001b[0m\u001b[1;33m,\u001b[0m \u001b[0mfull_output\u001b[0m\u001b[1;33m=\u001b[0m\u001b[1;36m1\u001b[0m\u001b[1;33m,\u001b[0m \u001b[1;33m**\u001b[0m\u001b[0mkwargs\u001b[0m\u001b[1;33m)\u001b[0m\u001b[1;33m\u001b[0m\u001b[1;33m\u001b[0m\u001b[0m\n\u001b[0m\u001b[0;32m    835\u001b[0m         \u001b[0mpopt\u001b[0m\u001b[1;33m,\u001b[0m \u001b[0mpcov\u001b[0m\u001b[1;33m,\u001b[0m \u001b[0minfodict\u001b[0m\u001b[1;33m,\u001b[0m \u001b[0merrmsg\u001b[0m\u001b[1;33m,\u001b[0m \u001b[0mier\u001b[0m \u001b[1;33m=\u001b[0m \u001b[0mres\u001b[0m\u001b[1;33m\u001b[0m\u001b[1;33m\u001b[0m\u001b[0m\n\u001b[0;32m    836\u001b[0m         \u001b[0mysize\u001b[0m \u001b[1;33m=\u001b[0m \u001b[0mlen\u001b[0m\u001b[1;33m(\u001b[0m\u001b[0minfodict\u001b[0m\u001b[1;33m[\u001b[0m\u001b[1;34m'fvec'\u001b[0m\u001b[1;33m]\u001b[0m\u001b[1;33m)\u001b[0m\u001b[1;33m\u001b[0m\u001b[1;33m\u001b[0m\u001b[0m\n",
      "\u001b[1;32mc:\\Users\\bener\\anaconda3\\lib\\site-packages\\scipy\\optimize\\_minpack_py.py\u001b[0m in \u001b[0;36mleastsq\u001b[1;34m(func, x0, args, Dfun, full_output, col_deriv, ftol, xtol, gtol, maxfev, epsfcn, factor, diag)\u001b[0m\n\u001b[0;32m    408\u001b[0m     \u001b[1;32mif\u001b[0m \u001b[1;32mnot\u001b[0m \u001b[0misinstance\u001b[0m\u001b[1;33m(\u001b[0m\u001b[0margs\u001b[0m\u001b[1;33m,\u001b[0m \u001b[0mtuple\u001b[0m\u001b[1;33m)\u001b[0m\u001b[1;33m:\u001b[0m\u001b[1;33m\u001b[0m\u001b[1;33m\u001b[0m\u001b[0m\n\u001b[0;32m    409\u001b[0m         \u001b[0margs\u001b[0m \u001b[1;33m=\u001b[0m \u001b[1;33m(\u001b[0m\u001b[0margs\u001b[0m\u001b[1;33m,\u001b[0m\u001b[1;33m)\u001b[0m\u001b[1;33m\u001b[0m\u001b[1;33m\u001b[0m\u001b[0m\n\u001b[1;32m--> 410\u001b[1;33m     \u001b[0mshape\u001b[0m\u001b[1;33m,\u001b[0m \u001b[0mdtype\u001b[0m \u001b[1;33m=\u001b[0m \u001b[0m_check_func\u001b[0m\u001b[1;33m(\u001b[0m\u001b[1;34m'leastsq'\u001b[0m\u001b[1;33m,\u001b[0m \u001b[1;34m'func'\u001b[0m\u001b[1;33m,\u001b[0m \u001b[0mfunc\u001b[0m\u001b[1;33m,\u001b[0m \u001b[0mx0\u001b[0m\u001b[1;33m,\u001b[0m \u001b[0margs\u001b[0m\u001b[1;33m,\u001b[0m \u001b[0mn\u001b[0m\u001b[1;33m)\u001b[0m\u001b[1;33m\u001b[0m\u001b[1;33m\u001b[0m\u001b[0m\n\u001b[0m\u001b[0;32m    411\u001b[0m     \u001b[0mm\u001b[0m \u001b[1;33m=\u001b[0m \u001b[0mshape\u001b[0m\u001b[1;33m[\u001b[0m\u001b[1;36m0\u001b[0m\u001b[1;33m]\u001b[0m\u001b[1;33m\u001b[0m\u001b[1;33m\u001b[0m\u001b[0m\n\u001b[0;32m    412\u001b[0m \u001b[1;33m\u001b[0m\u001b[0m\n",
      "\u001b[1;32mc:\\Users\\bener\\anaconda3\\lib\\site-packages\\scipy\\optimize\\_minpack_py.py\u001b[0m in \u001b[0;36m_check_func\u001b[1;34m(checker, argname, thefunc, x0, args, numinputs, output_shape)\u001b[0m\n\u001b[0;32m     22\u001b[0m def _check_func(checker, argname, thefunc, x0, args, numinputs,\n\u001b[0;32m     23\u001b[0m                 output_shape=None):\n\u001b[1;32m---> 24\u001b[1;33m     \u001b[0mres\u001b[0m \u001b[1;33m=\u001b[0m \u001b[0matleast_1d\u001b[0m\u001b[1;33m(\u001b[0m\u001b[0mthefunc\u001b[0m\u001b[1;33m(\u001b[0m\u001b[1;33m*\u001b[0m\u001b[1;33m(\u001b[0m\u001b[1;33m(\u001b[0m\u001b[0mx0\u001b[0m\u001b[1;33m[\u001b[0m\u001b[1;33m:\u001b[0m\u001b[0mnuminputs\u001b[0m\u001b[1;33m]\u001b[0m\u001b[1;33m,\u001b[0m\u001b[1;33m)\u001b[0m \u001b[1;33m+\u001b[0m \u001b[0margs\u001b[0m\u001b[1;33m)\u001b[0m\u001b[1;33m)\u001b[0m\u001b[1;33m)\u001b[0m\u001b[1;33m\u001b[0m\u001b[1;33m\u001b[0m\u001b[0m\n\u001b[0m\u001b[0;32m     25\u001b[0m     \u001b[1;32mif\u001b[0m \u001b[1;33m(\u001b[0m\u001b[0moutput_shape\u001b[0m \u001b[1;32mis\u001b[0m \u001b[1;32mnot\u001b[0m \u001b[1;32mNone\u001b[0m\u001b[1;33m)\u001b[0m \u001b[1;32mand\u001b[0m \u001b[1;33m(\u001b[0m\u001b[0mshape\u001b[0m\u001b[1;33m(\u001b[0m\u001b[0mres\u001b[0m\u001b[1;33m)\u001b[0m \u001b[1;33m!=\u001b[0m \u001b[0moutput_shape\u001b[0m\u001b[1;33m)\u001b[0m\u001b[1;33m:\u001b[0m\u001b[1;33m\u001b[0m\u001b[1;33m\u001b[0m\u001b[0m\n\u001b[0;32m     26\u001b[0m         \u001b[1;32mif\u001b[0m \u001b[1;33m(\u001b[0m\u001b[0moutput_shape\u001b[0m\u001b[1;33m[\u001b[0m\u001b[1;36m0\u001b[0m\u001b[1;33m]\u001b[0m \u001b[1;33m!=\u001b[0m \u001b[1;36m1\u001b[0m\u001b[1;33m)\u001b[0m\u001b[1;33m:\u001b[0m\u001b[1;33m\u001b[0m\u001b[1;33m\u001b[0m\u001b[0m\n",
      "\u001b[1;32mc:\\Users\\bener\\anaconda3\\lib\\site-packages\\scipy\\optimize\\_minpack_py.py\u001b[0m in \u001b[0;36mfunc_wrapped\u001b[1;34m(params)\u001b[0m\n\u001b[0;32m    483\u001b[0m     \u001b[1;32mif\u001b[0m \u001b[0mtransform\u001b[0m \u001b[1;32mis\u001b[0m \u001b[1;32mNone\u001b[0m\u001b[1;33m:\u001b[0m\u001b[1;33m\u001b[0m\u001b[1;33m\u001b[0m\u001b[0m\n\u001b[0;32m    484\u001b[0m         \u001b[1;32mdef\u001b[0m \u001b[0mfunc_wrapped\u001b[0m\u001b[1;33m(\u001b[0m\u001b[0mparams\u001b[0m\u001b[1;33m)\u001b[0m\u001b[1;33m:\u001b[0m\u001b[1;33m\u001b[0m\u001b[1;33m\u001b[0m\u001b[0m\n\u001b[1;32m--> 485\u001b[1;33m             \u001b[1;32mreturn\u001b[0m \u001b[0mfunc\u001b[0m\u001b[1;33m(\u001b[0m\u001b[0mxdata\u001b[0m\u001b[1;33m,\u001b[0m \u001b[1;33m*\u001b[0m\u001b[0mparams\u001b[0m\u001b[1;33m)\u001b[0m \u001b[1;33m-\u001b[0m \u001b[0mydata\u001b[0m\u001b[1;33m\u001b[0m\u001b[1;33m\u001b[0m\u001b[0m\n\u001b[0m\u001b[0;32m    486\u001b[0m     \u001b[1;32melif\u001b[0m \u001b[0mtransform\u001b[0m\u001b[1;33m.\u001b[0m\u001b[0mndim\u001b[0m \u001b[1;33m==\u001b[0m \u001b[1;36m1\u001b[0m\u001b[1;33m:\u001b[0m\u001b[1;33m\u001b[0m\u001b[1;33m\u001b[0m\u001b[0m\n\u001b[0;32m    487\u001b[0m         \u001b[1;32mdef\u001b[0m \u001b[0mfunc_wrapped\u001b[0m\u001b[1;33m(\u001b[0m\u001b[0mparams\u001b[0m\u001b[1;33m)\u001b[0m\u001b[1;33m:\u001b[0m\u001b[1;33m\u001b[0m\u001b[1;33m\u001b[0m\u001b[0m\n",
      "\u001b[1;32m~\\AppData\\Local\\Temp\\ipykernel_8500\\3353490896.py\u001b[0m in \u001b[0;36mFx_tm_func\u001b[1;34m(SX, dfx0, fxm, sxm, fxs, sxs)\u001b[0m\n\u001b[0;32m     27\u001b[0m \u001b[1;33m\u001b[0m\u001b[0m\n\u001b[0;32m     28\u001b[0m \u001b[1;32mdef\u001b[0m \u001b[0mFx_tm_func\u001b[0m\u001b[1;33m(\u001b[0m\u001b[0mSX\u001b[0m\u001b[1;33m,\u001b[0m\u001b[0mdfx0\u001b[0m\u001b[1;33m,\u001b[0m\u001b[0mfxm\u001b[0m\u001b[1;33m,\u001b[0m\u001b[0msxm\u001b[0m\u001b[1;33m,\u001b[0m\u001b[0mfxs\u001b[0m\u001b[1;33m,\u001b[0m\u001b[0msxs\u001b[0m\u001b[1;33m)\u001b[0m\u001b[1;33m:\u001b[0m\u001b[1;33m\u001b[0m\u001b[1;33m\u001b[0m\u001b[0m\n\u001b[1;32m---> 29\u001b[1;33m     \u001b[1;32mreturn\u001b[0m \u001b[0mtr\u001b[0m\u001b[1;33m.\u001b[0m\u001b[0mTMeasy_single\u001b[0m\u001b[1;33m(\u001b[0m\u001b[0mdfx0\u001b[0m\u001b[1;33m,\u001b[0m\u001b[0mdfy0\u001b[0m\u001b[1;33m,\u001b[0m\u001b[0mfxm\u001b[0m\u001b[1;33m,\u001b[0m\u001b[0mfym\u001b[0m\u001b[1;33m,\u001b[0m\u001b[0msxm\u001b[0m\u001b[1;33m,\u001b[0m\u001b[0msym\u001b[0m\u001b[1;33m,\u001b[0m\u001b[0mfxs\u001b[0m\u001b[1;33m,\u001b[0m\u001b[0mfys\u001b[0m\u001b[1;33m,\u001b[0m\u001b[0msxs\u001b[0m\u001b[1;33m,\u001b[0m\u001b[0msys\u001b[0m\u001b[1;33m,\u001b[0m\u001b[0mi\u001b[0m\u001b[1;33m,\u001b[0m\u001b[1;36m1\u001b[0m\u001b[1;33m)\u001b[0m\u001b[1;33m\u001b[0m\u001b[1;33m\u001b[0m\u001b[0m\n\u001b[0m\u001b[0;32m     30\u001b[0m \u001b[1;33m\u001b[0m\u001b[0m\n\u001b[0;32m     31\u001b[0m \u001b[1;32mdef\u001b[0m \u001b[0mFy_tm_func\u001b[0m\u001b[1;33m(\u001b[0m\u001b[0mSY\u001b[0m\u001b[1;33m,\u001b[0m\u001b[0mdfy0\u001b[0m\u001b[1;33m,\u001b[0m\u001b[0mfym\u001b[0m\u001b[1;33m,\u001b[0m\u001b[0msym\u001b[0m\u001b[1;33m,\u001b[0m\u001b[0mfys\u001b[0m\u001b[1;33m,\u001b[0m\u001b[0msys\u001b[0m\u001b[1;33m)\u001b[0m\u001b[1;33m:\u001b[0m\u001b[1;33m\u001b[0m\u001b[1;33m\u001b[0m\u001b[0m\n",
      "\u001b[1;31mNameError\u001b[0m: name 'tr' is not defined"
     ]
    }
   ],
   "source": [
    "################################################################################\n",
    "#TMeasy auf Pacejka52\n",
    "################################################################################\n",
    "\n",
    "\n",
    "SX = np.linspace(-1,1,i)\n",
    "SY = np.linspace(-15,15,i)\n",
    "LMU = 1\n",
    "\n",
    "#case 1 -> Fx, case 2 -> Fy\n",
    "\n",
    "#Parameters\n",
    "dfx0 = 32529\n",
    "dfy0 = 30163   # init slopes in N/-\n",
    "fxm  = 1851.8\n",
    "fym  = 1604.2   # maximum forces in N\n",
    "sxm  = 0.2183\n",
    "sym  = 0.2031   # sm where f(sm) = fm\n",
    "fxs  = 1188.4\n",
    "fys  = 1072.7   # sliding forces in N\n",
    "sxs  = 0.7725\n",
    "sys  = 0.7978\n",
    "\n",
    "#intital guess\n",
    "Fx_tm_params_init = [30000,1800,0.2,1100,0.8]\n",
    "Fy_tm_params_init = [30000,1800,0.2,1100,0.8]\n",
    "\n",
    "def Fx_tm_func(SX,dfx0,fxm,sxm,fxs,sxs):\n",
    "    return tr.TMeasy_single(dfx0,dfy0,fxm,fym,sxm,sym,fxs,fys,sxs,sys,i,1)\n",
    "\n",
    "def Fy_tm_func(SY,dfy0,fym,sym,fys,sys):\n",
    "    return tr.TMeasy_single(dfx0,dfy0,fxm,fym,sxm,sym,fxs,fys,sxs,sys,i,2)\n",
    "\n",
    "Fx_tm_params, _ = curve_fit(Fx_tm_func, SX, Fx_pa52, Fx_tm_params_init,maxfev = 10000)\n",
    "Fy_tm_params, _ = curve_fit(Fy_tm_func, SY, Fy_pa52, Fy_tm_params_init,maxfev = 10000)\n",
    "\n",
    "Fx_tm_fit = Fx_tm_func(SX,Fx_tm_params[0],Fx_tm_params[1],Fx_tm_params[2],Fx_tm_params[3],Fx_tm_params[4])\n",
    "Fy_tm_fit = Fy_tm_func(SY,Fy_tm_params[0],Fy_tm_params[1],Fy_tm_params[2],Fy_tm_params[3],Fy_tm_params[4])\n",
    "\n",
    "plt.figure(1)\n",
    "plt.plot(SX,Fx_tm_fit,'r--')\n",
    "plt.plot(SX,Fx_pa52)\n",
    "plt.xlabel('slipratio [%]')\n",
    "plt.ylabel('Fz [N]')\n",
    "plt.title('lonitudenal TMeasy auf Pacejka52 gefittet')\n",
    "plt.legend(['TMeasy (gefittet)','Pacejka52 (orginal)'])\n",
    "\n",
    "plt.figure(2)\n",
    "plt.plot(SY,Fy_tm_fit,'r--')\n",
    "plt.plot(SY,Fy_pa52)\n",
    "plt.xlabel('slipangle [°]')\n",
    "plt.ylabel('Fz [N]')\n",
    "plt.title('lateral TMeasy auf Pacejka52 gefittet')\n",
    "plt.legend(['TMeasy (gefittet)','Pacejka52 (orginal)'] )\n",
    "\n",
    "fig,ax = plt.subplots(2, figsize = [10,5])\n",
    "\n",
    "ax[0].plot(SX,Fx_tm_fit,'r--')\n",
    "ax[0].plot(SX,Fx_pa52)\n",
    "ax[0].set_xlabel('slipratio [%]')\n",
    "ax[0].set_ylabel('Fz [N]')\n",
    "ax[0].set_title('lonitudenal TMeasy auf Pacejka52 gefittet')\n",
    "ax[0].legend(['TMeasy (gefittet)','Pacejka52 (orginal)'])\n",
    "\n",
    "ax[1].plot(SY,Fy_tm_fit,'r--')\n",
    "ax[1].plot(SY,Fy_pa52)\n",
    "ax[1].set_xlabel('slipangle [°]')\n",
    "ax[1].set_ylabel('Fz [N]')\n",
    "ax[1].set_title('lateral TMeasy auf Pacejka52 gefittet')\n",
    "ax[1].legend(['TMeasy (gefittet)','Pacejka52 (orginal)'] )"
   ]
  },
  {
   "cell_type": "code",
   "execution_count": 24,
   "metadata": {},
   "outputs": [
    {
     "name": "stdout",
     "output_type": "stream",
     "text": [
      "[ 6.97899445e+04  9.64500207e+03 -9.19441505e-01  2.73393560e+03\n",
      "  3.30185693e+02]\n",
      "[6.68472808e+04 8.67684274e+03 8.90626817e-04 7.16404658e+03\n",
      " 5.20578263e-01]\n"
     ]
    }
   ],
   "source": [
    "################################################################################\n",
    "#vergleich parameter TMeasy\n",
    "################################################################################\n",
    "\n",
    "print(Fx_tm_params)\n",
    "print(Fy_tm_params)"
   ]
  },
  {
   "cell_type": "code",
   "execution_count": 25,
   "metadata": {},
   "outputs": [
    {
     "data": {
      "text/plain": [
       "Text(0.5, 1.0, 'lateral TMeasy')"
      ]
     },
     "execution_count": 25,
     "metadata": {},
     "output_type": "execute_result"
    },
    {
     "data": {
      "image/png": "[encoded data removed]",
      "text/plain": [
       "<Figure size 640x480 with 1 Axes>"
      ]
     },
     "metadata": {},
     "output_type": "display_data"
    },
    {
     "data": {
      "image/png": "[encoded data removed]",
      "text/plain": [
       "<Figure size 640x480 with 1 Axes>"
      ]
     },
     "metadata": {},
     "output_type": "display_data"
    }
   ],
   "source": [
    "plt.figure(1)\n",
    "plt.plot(SX,Fx_tm_fit,label = 'Fz = 5000')\n",
    "plt.legend()\n",
    "#plt.plot(SX,Fx_pa52)\n",
    "plt.xlabel('slipratio [%]')\n",
    "plt.ylabel('Fz [N]')\n",
    "plt.title('lonitudinal TMeasy ')\n",
    "#plt.legend(['TMeasy (gefittet)','Pacejka52 (orginal)'])\n",
    "\n",
    "plt.figure(2)\n",
    "plt.plot(SY,Fy_tm_fit,label = 'Fz = 5000')\n",
    "plt.legend()\n",
    "#plt.plot(SY,Fy_pa52)\n",
    "plt.xlabel('slipangle [°]')\n",
    "plt.ylabel('Fz [N]')\n",
    "plt.title('lateral TMeasy')\n",
    "#plt.legend(['TMeasy (gefittet)','Pacejka52 (orginal)'] )\n"
   ]
  },
  {
   "cell_type": "code",
   "execution_count": 17,
   "metadata": {},
   "outputs": [
    {
     "name": "stderr",
     "output_type": "stream",
     "text": [
      "c:\\Users\\bener\\anaconda3\\lib\\site-packages\\scipy\\optimize\\_minpack_py.py:881: OptimizeWarning: Covariance of the parameters could not be estimated\n",
      "  warnings.warn('Covariance of the parameters could not be estimated',\n"
     ]
    },
    {
     "data": {
      "text/plain": [
       "[<matplotlib.lines.Line2D at 0x1f7075da400>]"
      ]
     },
     "execution_count": 17,
     "metadata": {},
     "output_type": "execute_result"
    }
   ],
   "source": [
    "#######################################\n",
    "#TMeasy TUfast/Paco\n",
    "#######################################\n",
    "\n",
    "import numpy as np\n",
    "import matplotlib.pyplot as plt\n",
    "import scipy.optimize as opt\n",
    "from scipy.optimize import curve_fit\n",
    "\n",
    "import TMeasy as tmpa\n",
    "import Pacejka52 as pa52\n",
    "import Pacejka52_Sv_Sh_0 as pa0\n",
    "\n",
    "i = 1000\n",
    "#für Fy_fit\n",
    "SX_lat = np.linspace(-1,1,i)\n",
    "SY_lat = np.linspace(0,0.3,i)\n",
    "#für Fx fit:\n",
    "SX_long = np.linspace(0,0.25,i)\n",
    "SY_long = np.linspace(-0.3,0.3,i)\n",
    "\n",
    "Sxx = np.linspace(-1,1,i)\n",
    "Syy = np.linspace(-0.3,0.3,i)\n",
    "\n",
    "Fz = 1500\n",
    "Fz0 = 8000\n",
    "IA = 0\n",
    "\n",
    "#Daten auf de gefitted wird\n",
    "Fy_pa52 = pa0.Pacejka52_lat(Fz,SY_lat,IA,Fz0)[0]\n",
    "Fx_pa52 = pa0.Pacejka52_long(Fz,SX_long,IA,Fz0)[0]\n",
    "\n",
    "#intial guess\n",
    "Fy_params_init = [40000, 6000, 4000, 0.1, 0.7, 0.5]\n",
    "Fx_params_init = [240000, 9000, 4000, 0.1, 0.9, 0.9]\n",
    "\n",
    "def func_Fy(SY_lat,DFY, FMY, FSY, SMY, SSY,SMX):\n",
    "    return tmpa.calcFY(SX_lat, SY_lat, DFY, FMY, FSY, SMY, SSY,SMX)\n",
    "\n",
    "def func_Fx(SX_long,DFX, FMX, FSX, SMX,SSX, SMY):\n",
    "    return tmpa.calcFx( SX_long, SY_long, DFX, FMX, FSX, SMX,SSX, SMY)\n",
    "\n",
    "# perform the optimization\n",
    "Fy_params, _ = curve_fit(func_Fy, SY_lat, Fy_pa52, Fy_params_init )\n",
    "Fx_params, _ = curve_fit(func_Fx, SX_long, Fx_pa52, Fx_params_init, maxfev=100000)\n",
    "\n",
    "\n",
    "#plot\n",
    "Fy_fit = func_Fy(SY_lat,Fy_params[0],Fy_params[1],Fy_params[2],Fy_params[3],Fy_params[4],Fy_params[5])\n",
    "Fx_fit = func_Fx(SX_long,Fx_params[0],Fx_params[1],Fx_params[2],Fx_params[3],Fx_params[4],Fx_params[5])\n",
    "\n",
    "Fy1 = func_Fy(Syy,Fy_params[0],Fy_params[1],Fy_params[2],Fy_params[3],Fy_params[4],Fy_params[5])\n",
    "Fx1 = func_Fx(Sxx,Fx_params[0],Fx_params[1],Fx_params[2],Fx_params[3],Fx_params[4],Fx_params[5])\n",
    "\n",
    "Fy2 = tmpa.calcFY(Sxx, Syy, Fy_params[0], Fy_params[1], Fy_params[2], Fy_params[3], Fy_params[4],Fy_params[5])\n",
    "Fx2 = tmpa.calcFx( Sxx, Syy, Fx_params[0],Fx_params[1],Fx_params[2],Fx_params[3],Fx_params[4],Fx_params[5])\n",
    "\n",
    "plt.figure(1)\n",
    "plt.plot(SY_lat,Fy_fit)\n",
    "plt.plot(SY_lat,Fy_pa52,'r--')\n",
    "plt.xlabel('slipangle [rad]')\n",
    "plt.ylabel('Fy [N]')\n",
    "plt.title('lateral TMeasy auf Pacejka52 gefittet')\n",
    "plt.legend(['TMeasy (gefittet)','Pacejka52 (orginal)'])\n",
    "\n",
    "\n",
    "plt.figure(2)\n",
    "plt.plot(SX_long,Fx_fit)\n",
    "plt.plot(SX_long,Fx_pa52,'r--')\n",
    "plt.xlabel('slipratio [%]')\n",
    "plt.ylabel('Fx [N]')\n",
    "plt.title('longitudenal TMeasy auf Pacejka52 gefittet')\n",
    "plt.legend(['TMeasy (gefittet)','Pacejka52 (orginal)'])\n",
    "\n",
    "plt.figure(3)\n",
    "plt.plot(Sxx,Fx1)\n",
    "plt.plot(Sxx,Fx2, 'r')\n",
    "\n",
    "plt.figure(4)\n",
    "plt.plot(Syy,Fy1)\n",
    "plt.plot(Syy,Fy2, 'r')"
   ]
  },
  {
   "cell_type": "code",
   "execution_count": 19,
   "metadata": {},
   "outputs": [
    {
     "name": "stdout",
     "output_type": "stream",
     "text": [
      "[6.99386694e+05 3.10459078e+03 2.01998289e+03 1.84740136e-02\n",
      " 2.85868610e-01 1.43394648e-01]\n",
      "[ 1.32353620e+05  2.73913262e+03  2.63463469e+04  3.11097227e-01\n",
      " -4.37995923e+00  3.77775585e+00]\n"
     ]
    },
    {
     "data": {
      "text/plain": [
       "<matplotlib.legend.Legend at 0x1f702f44be0>"
      ]
     },
     "execution_count": 19,
     "metadata": {},
     "output_type": "execute_result"
    }
   ],
   "source": [
    "print(Fx_params)\n",
    "print(Fy_params)\n",
    "\n",
    "Fx_params_alt =  [ 2.36956924e+05, -8.31234170e+03, -3.00584579e+03, -4.20761657e-02, -6.55582132e-01, -1.44859540e+04]\n",
    "Fy_params_alt = [ 1.23377206e+05 , 8.58917745e+03 , 8.03274447e+03 , 1.30480776e-01,-6.02817710e-01,  1.41762125e+03]\n",
    "\n",
    "plt.figure(1)\n",
    "Sxx = np.linspace(-1,1,1000)\n",
    "Syy = np.linspace(-0.3,0.3,1000)\n",
    "Fxx_fit = tmpa.calcFx( Sxx, Syy, Fx_params[0],Fx_params[1],Fx_params[2],Fx_params[3],Fx_params[4],Fx_params[5])\n",
    "Fxx_pa52 = pa0.Pacejka52_long(Fz,Sxx,IA,Fz0)[0]\n",
    "plt.plot(Sxx,Fxx_fit)\n",
    "plt.plot(Sxx,Fxx_pa52)\n",
    "\n",
    "plt.figure(2, figsize=(10,10))\n",
    "Fyy_fit = tmpa.calcFY( Sxx, Syy, Fy_params[0],Fy_params[1],Fy_params[2],Fy_params[3],Fy_params[4],Fy_params[5])\n",
    "Fyy_pa52 = pa52.Pacejka52_lat(Fz,Syy,IA,Fz0)[0]\n",
    "Fyy_pa0 = pa0.Pacejka52_lat(Fz,Syy,IA,Fz0)[0]\n",
    "plt.plot(Syy,Fyy_fit, label ='TMeasy fit')\n",
    "plt.plot(Syy,Fyy_pa52, label = 'Pacejka params Indy')\n",
    "plt.plot(Syy,Fyy_pa0,'r--', label = 'Pacejka Sv,Sh =0')\n",
    "plt.legend()"
   ]
  },
  {
   "cell_type": "code",
   "execution_count": 20,
   "metadata": {},
   "outputs": [
    {
     "data": {
      "text/plain": [
       "<matplotlib.legend.Legend at 0x1f70760ff40>"
      ]
     },
     "execution_count": 20,
     "metadata": {},
     "output_type": "execute_result"
    }
   ],
   "source": []
  },
  {
   "cell_type": "code",
   "execution_count": null,
   "metadata": {},
   "outputs": [],
   "source": [
    "139524.9778222991\n",
    "1\n",
    "6994.2466072766\n",
    "2\n",
    "6202.2095010615\n",
    "3\n",
    "0.1449628087\n",
    "4\n",
    "0.3117939862\n",
    "5\n",
    "1.2911811431"
   ]
  }
 ],
 "metadata": {
  "kernelspec": {
   "display_name": "base",
   "language": "python",
   "name": "python3"
  },
  "language_info": {
   "codemirror_mode": {
    "name": "ipython",
    "version": 3
   },
   "file_extension": ".py",
   "mimetype": "text/x-python",
   "name": "python",
   "nbconvert_exporter": "python",
   "pygments_lexer": "ipython3",
   "version": "3.9.13"
  },
  "orig_nbformat": 4,
  "vscode": {
   "interpreter": {
    "hash": "26caecf2bd45cff89c71ced9647c2679392cf9696ba47165259c7b4dcf432785"
   }
  }
 },
 "nbformat": 4,
 "nbformat_minor": 2
}
