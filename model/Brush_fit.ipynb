{
 "cells": [
  {
   "cell_type": "code",
   "execution_count": null,
   "metadata": {},
   "outputs": [],
   "source": []
  }
 ],
 "metadata": {
  "kernelspec": {
   "display_name": "base",
   "language": "python",
   "name": "python3"
  },
  "language_info": {
   "name": "python",
   "version": "3.9.13"
  },
  "orig_nbformat": 4,
  "vscode": {
   "interpreter": {
    "hash": "26caecf2bd45cff89c71ced9647c2679392cf9696ba47165259c7b4dcf432785"
   }
  }
 },
 "nbformat": 4,
 "nbformat_minor": 2
}
